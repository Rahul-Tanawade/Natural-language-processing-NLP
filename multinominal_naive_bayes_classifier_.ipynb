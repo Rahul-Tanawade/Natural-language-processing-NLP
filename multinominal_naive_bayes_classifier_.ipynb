{
  "nbformat": 4,
  "nbformat_minor": 0,
  "metadata": {
    "colab": {
      "name": "multinominal naive bayes classifier .ipynb",
      "provenance": [],
      "authorship_tag": "ABX9TyOZf/LsTorP8UmNJQhI46J6"
    },
    "kernelspec": {
      "name": "python3",
      "display_name": "Python 3"
    },
    "language_info": {
      "name": "python"
    }
  },
  "cells": [
    {
      "cell_type": "code",
      "metadata": {
        "id": "CzO8sfczaePd"
      },
      "source": [
        "#to classfy a sms intp spam and ham using multinominal naives bayes theorem\n",
        "import pandas as pd\n",
        "url = 'https://raw.githubusercontent.com/justmarkham/pycon-2016-tutorial/master/data/sms.tsv'\n",
        "sms = pd.read_table(url, header=None, names=['label', 'message'])"
      ],
      "execution_count": 14,
      "outputs": []
    },
    {
      "cell_type": "code",
      "metadata": {
        "colab": {
          "base_uri": "https://localhost:8080/",
          "height": 506
        },
        "id": "Gd5H6NHZa71T",
        "outputId": "2bce5cae-48fe-4d24-bff9-1d8c87a05275"
      },
      "source": [
        "print(sms.shape)\n",
        "print(\"\\n\")\n",
        "print(sms['label'].value_counts())\n",
        "sms"
      ],
      "execution_count": 15,
      "outputs": [
        {
          "output_type": "stream",
          "text": [
            "(5572, 2)\n",
            "\n",
            "\n",
            "ham     4825\n",
            "spam     747\n",
            "Name: label, dtype: int64\n"
          ],
          "name": "stdout"
        },
        {
          "output_type": "execute_result",
          "data": {
            "text/html": [
              "<div>\n",
              "<style scoped>\n",
              "    .dataframe tbody tr th:only-of-type {\n",
              "        vertical-align: middle;\n",
              "    }\n",
              "\n",
              "    .dataframe tbody tr th {\n",
              "        vertical-align: top;\n",
              "    }\n",
              "\n",
              "    .dataframe thead th {\n",
              "        text-align: right;\n",
              "    }\n",
              "</style>\n",
              "<table border=\"1\" class=\"dataframe\">\n",
              "  <thead>\n",
              "    <tr style=\"text-align: right;\">\n",
              "      <th></th>\n",
              "      <th>label</th>\n",
              "      <th>message</th>\n",
              "    </tr>\n",
              "  </thead>\n",
              "  <tbody>\n",
              "    <tr>\n",
              "      <th>0</th>\n",
              "      <td>ham</td>\n",
              "      <td>Go until jurong point, crazy.. Available only ...</td>\n",
              "    </tr>\n",
              "    <tr>\n",
              "      <th>1</th>\n",
              "      <td>ham</td>\n",
              "      <td>Ok lar... Joking wif u oni...</td>\n",
              "    </tr>\n",
              "    <tr>\n",
              "      <th>2</th>\n",
              "      <td>spam</td>\n",
              "      <td>Free entry in 2 a wkly comp to win FA Cup fina...</td>\n",
              "    </tr>\n",
              "    <tr>\n",
              "      <th>3</th>\n",
              "      <td>ham</td>\n",
              "      <td>U dun say so early hor... U c already then say...</td>\n",
              "    </tr>\n",
              "    <tr>\n",
              "      <th>4</th>\n",
              "      <td>ham</td>\n",
              "      <td>Nah I don't think he goes to usf, he lives aro...</td>\n",
              "    </tr>\n",
              "    <tr>\n",
              "      <th>...</th>\n",
              "      <td>...</td>\n",
              "      <td>...</td>\n",
              "    </tr>\n",
              "    <tr>\n",
              "      <th>5567</th>\n",
              "      <td>spam</td>\n",
              "      <td>This is the 2nd time we have tried 2 contact u...</td>\n",
              "    </tr>\n",
              "    <tr>\n",
              "      <th>5568</th>\n",
              "      <td>ham</td>\n",
              "      <td>Will ü b going to esplanade fr home?</td>\n",
              "    </tr>\n",
              "    <tr>\n",
              "      <th>5569</th>\n",
              "      <td>ham</td>\n",
              "      <td>Pity, * was in mood for that. So...any other s...</td>\n",
              "    </tr>\n",
              "    <tr>\n",
              "      <th>5570</th>\n",
              "      <td>ham</td>\n",
              "      <td>The guy did some bitching but I acted like i'd...</td>\n",
              "    </tr>\n",
              "    <tr>\n",
              "      <th>5571</th>\n",
              "      <td>ham</td>\n",
              "      <td>Rofl. Its true to its name</td>\n",
              "    </tr>\n",
              "  </tbody>\n",
              "</table>\n",
              "<p>5572 rows × 2 columns</p>\n",
              "</div>"
            ],
            "text/plain": [
              "     label                                            message\n",
              "0      ham  Go until jurong point, crazy.. Available only ...\n",
              "1      ham                      Ok lar... Joking wif u oni...\n",
              "2     spam  Free entry in 2 a wkly comp to win FA Cup fina...\n",
              "3      ham  U dun say so early hor... U c already then say...\n",
              "4      ham  Nah I don't think he goes to usf, he lives aro...\n",
              "...    ...                                                ...\n",
              "5567  spam  This is the 2nd time we have tried 2 contact u...\n",
              "5568   ham               Will ü b going to esplanade fr home?\n",
              "5569   ham  Pity, * was in mood for that. So...any other s...\n",
              "5570   ham  The guy did some bitching but I acted like i'd...\n",
              "5571   ham                         Rofl. Its true to its name\n",
              "\n",
              "[5572 rows x 2 columns]"
            ]
          },
          "metadata": {
            "tags": []
          },
          "execution_count": 15
        }
      ]
    },
    {
      "cell_type": "code",
      "metadata": {
        "colab": {
          "base_uri": "https://localhost:8080/",
          "height": 399
        },
        "id": "P5Z1maBKbQ10",
        "outputId": "fb56928e-6abd-43f2-dd4f-5cc5835ee5cc"
      },
      "source": [
        "# convert label to a numerical variable\n",
        "sms['label_num']=sms['label'].map({'ham':0,'spam':1})\n",
        "sms"
      ],
      "execution_count": 16,
      "outputs": [
        {
          "output_type": "execute_result",
          "data": {
            "text/html": [
              "<div>\n",
              "<style scoped>\n",
              "    .dataframe tbody tr th:only-of-type {\n",
              "        vertical-align: middle;\n",
              "    }\n",
              "\n",
              "    .dataframe tbody tr th {\n",
              "        vertical-align: top;\n",
              "    }\n",
              "\n",
              "    .dataframe thead th {\n",
              "        text-align: right;\n",
              "    }\n",
              "</style>\n",
              "<table border=\"1\" class=\"dataframe\">\n",
              "  <thead>\n",
              "    <tr style=\"text-align: right;\">\n",
              "      <th></th>\n",
              "      <th>label</th>\n",
              "      <th>message</th>\n",
              "      <th>label_num</th>\n",
              "    </tr>\n",
              "  </thead>\n",
              "  <tbody>\n",
              "    <tr>\n",
              "      <th>0</th>\n",
              "      <td>ham</td>\n",
              "      <td>Go until jurong point, crazy.. Available only ...</td>\n",
              "      <td>0</td>\n",
              "    </tr>\n",
              "    <tr>\n",
              "      <th>1</th>\n",
              "      <td>ham</td>\n",
              "      <td>Ok lar... Joking wif u oni...</td>\n",
              "      <td>0</td>\n",
              "    </tr>\n",
              "    <tr>\n",
              "      <th>2</th>\n",
              "      <td>spam</td>\n",
              "      <td>Free entry in 2 a wkly comp to win FA Cup fina...</td>\n",
              "      <td>1</td>\n",
              "    </tr>\n",
              "    <tr>\n",
              "      <th>3</th>\n",
              "      <td>ham</td>\n",
              "      <td>U dun say so early hor... U c already then say...</td>\n",
              "      <td>0</td>\n",
              "    </tr>\n",
              "    <tr>\n",
              "      <th>4</th>\n",
              "      <td>ham</td>\n",
              "      <td>Nah I don't think he goes to usf, he lives aro...</td>\n",
              "      <td>0</td>\n",
              "    </tr>\n",
              "    <tr>\n",
              "      <th>...</th>\n",
              "      <td>...</td>\n",
              "      <td>...</td>\n",
              "      <td>...</td>\n",
              "    </tr>\n",
              "    <tr>\n",
              "      <th>5567</th>\n",
              "      <td>spam</td>\n",
              "      <td>This is the 2nd time we have tried 2 contact u...</td>\n",
              "      <td>1</td>\n",
              "    </tr>\n",
              "    <tr>\n",
              "      <th>5568</th>\n",
              "      <td>ham</td>\n",
              "      <td>Will ü b going to esplanade fr home?</td>\n",
              "      <td>0</td>\n",
              "    </tr>\n",
              "    <tr>\n",
              "      <th>5569</th>\n",
              "      <td>ham</td>\n",
              "      <td>Pity, * was in mood for that. So...any other s...</td>\n",
              "      <td>0</td>\n",
              "    </tr>\n",
              "    <tr>\n",
              "      <th>5570</th>\n",
              "      <td>ham</td>\n",
              "      <td>The guy did some bitching but I acted like i'd...</td>\n",
              "      <td>0</td>\n",
              "    </tr>\n",
              "    <tr>\n",
              "      <th>5571</th>\n",
              "      <td>ham</td>\n",
              "      <td>Rofl. Its true to its name</td>\n",
              "      <td>0</td>\n",
              "    </tr>\n",
              "  </tbody>\n",
              "</table>\n",
              "<p>5572 rows × 3 columns</p>\n",
              "</div>"
            ],
            "text/plain": [
              "     label                                            message  label_num\n",
              "0      ham  Go until jurong point, crazy.. Available only ...          0\n",
              "1      ham                      Ok lar... Joking wif u oni...          0\n",
              "2     spam  Free entry in 2 a wkly comp to win FA Cup fina...          1\n",
              "3      ham  U dun say so early hor... U c already then say...          0\n",
              "4      ham  Nah I don't think he goes to usf, he lives aro...          0\n",
              "...    ...                                                ...        ...\n",
              "5567  spam  This is the 2nd time we have tried 2 contact u...          1\n",
              "5568   ham               Will ü b going to esplanade fr home?          0\n",
              "5569   ham  Pity, * was in mood for that. So...any other s...          0\n",
              "5570   ham  The guy did some bitching but I acted like i'd...          0\n",
              "5571   ham                         Rofl. Its true to its name          0\n",
              "\n",
              "[5572 rows x 3 columns]"
            ]
          },
          "metadata": {
            "tags": []
          },
          "execution_count": 16
        }
      ]
    },
    {
      "cell_type": "code",
      "metadata": {
        "id": "naslZYXNbo4-"
      },
      "source": [
        "# how to define X and y (from the SMS data) for use with COUNTVECTORIZER\n",
        "X=sms.message\n",
        "y=sms.label_num"
      ],
      "execution_count": 18,
      "outputs": []
    },
    {
      "cell_type": "code",
      "metadata": {
        "colab": {
          "base_uri": "https://localhost:8080/"
        },
        "id": "iP8Xw9wqcM0E",
        "outputId": "3accfaa8-f429-4cef-aa9d-dd6c8a121f1d"
      },
      "source": [
        "# split X and y into training and testing sets\n",
        "# by default, it splits 75% training and 25% test\n",
        "\n",
        "from sklearn.model_selection import train_test_split\n",
        "X_train,X_test,y_train,y_test=train_test_split(X,y,random_state=1)\n",
        "print(X_train.shape)\n",
        "print(X_test.shape)\n",
        "print(y_train.shape)\n",
        "print(y_test.shape)"
      ],
      "execution_count": 20,
      "outputs": [
        {
          "output_type": "stream",
          "text": [
            "(4179,)\n",
            "(1393,)\n",
            "(4179,)\n",
            "(1393,)\n"
          ],
          "name": "stdout"
        }
      ]
    },
    {
      "cell_type": "code",
      "metadata": {
        "id": "IbQV0Bbddbok"
      },
      "source": [
        "#Vectorizing our dataset\n",
        "from sklearn.feature_extraction.text import CountVectorizer\n",
        "cv=CountVectorizer()\n",
        "X_train_dtm = cv.fit_transform(X_train)\n",
        "\n",
        "#transform testing data (using fitted vocabulary) into a document-term matrix\n",
        "X_test_dtm=cv.transform(X_test)"
      ],
      "execution_count": 22,
      "outputs": []
    },
    {
      "cell_type": "markdown",
      "metadata": {
        "id": "GVUObArveJcM"
      },
      "source": [
        "The multinomial Naive Bayes classifier is suitable for classification with discrete features (e.g., word counts for text classification). The multinomial distribution normally requires integer feature counts. However, in practice, fractional counts such as tf-idf may also work."
      ]
    },
    {
      "cell_type": "code",
      "metadata": {
        "colab": {
          "base_uri": "https://localhost:8080/"
        },
        "id": "Xzn86CFyeES0",
        "outputId": "6284218b-272d-40c9-ac09-b37a7757bafa"
      },
      "source": [
        "#building and evaluating model\n",
        "from sklearn.naive_bayes import MultinomialNB\n",
        "nb=MultinomialNB()\n",
        "# train the model using X_train_dtm \n",
        "%time nb.fit(X_train_dtm,y_train)"
      ],
      "execution_count": 26,
      "outputs": [
        {
          "output_type": "stream",
          "text": [
            "CPU times: user 5.79 ms, sys: 89 µs, total: 5.88 ms\n",
            "Wall time: 7.13 ms\n"
          ],
          "name": "stdout"
        },
        {
          "output_type": "execute_result",
          "data": {
            "text/plain": [
              "MultinomialNB(alpha=1.0, class_prior=None, fit_prior=True)"
            ]
          },
          "metadata": {
            "tags": []
          },
          "execution_count": 26
        }
      ]
    },
    {
      "cell_type": "code",
      "metadata": {
        "colab": {
          "base_uri": "https://localhost:8080/"
        },
        "id": "7M_odQmifGXv",
        "outputId": "3da653f5-7068-412d-9612-15cd5937268b"
      },
      "source": [
        "#make prediction on x_test\n",
        "y_pred_class = nb.predict(X_test_dtm)\n",
        "\n",
        "from sklearn import metrics\n",
        "metrics.accuracy_score(y_test,y_pred_class)\n",
        "\n",
        "# print the confusion matrix\n",
        "metrics.confusion_matrix(y_test,y_pred_class)\n",
        "\n",
        "\"\"\"\n",
        "Confusion matrix\n",
        "[TN FP\n",
        "FN TP]\n",
        "\"\"\""
      ],
      "execution_count": 28,
      "outputs": [
        {
          "output_type": "execute_result",
          "data": {
            "text/plain": [
              "array([[1203,    5],\n",
              "       [  11,  174]])"
            ]
          },
          "metadata": {
            "tags": []
          },
          "execution_count": 28
        }
      ]
    },
    {
      "cell_type": "code",
      "metadata": {
        "colab": {
          "base_uri": "https://localhost:8080/"
        },
        "id": "mMLUW9NKgO0C",
        "outputId": "71e25911-cbe1-4fad-feb9-ea624337c2fa"
      },
      "source": [
        "# print message text for the false positives (ham incorrectly classified as spam)\n",
        "\n",
        "X_test[y_pred_class > y_test]"
      ],
      "execution_count": 29,
      "outputs": [
        {
          "output_type": "execute_result",
          "data": {
            "text/plain": [
              "574               Waiting for your call.\n",
              "3375             Also andros ice etc etc\n",
              "45      No calls..messages..missed calls\n",
              "3415             No pic. Please re-send.\n",
              "1988    No calls..messages..missed calls\n",
              "Name: message, dtype: object"
            ]
          },
          "metadata": {
            "tags": []
          },
          "execution_count": 29
        }
      ]
    },
    {
      "cell_type": "code",
      "metadata": {
        "colab": {
          "base_uri": "https://localhost:8080/"
        },
        "id": "CBu6pxaKgYfl",
        "outputId": "5f81b539-39ae-479d-bf6b-6c188f94d01d"
      },
      "source": [
        "# print message text for the false negatives (spam incorrectly classified as ham)\n",
        "\n",
        "X_test[y_pred_class < y_test]"
      ],
      "execution_count": 30,
      "outputs": [
        {
          "output_type": "execute_result",
          "data": {
            "text/plain": [
              "3132    LookAtMe!: Thanks for your purchase of a video...\n",
              "5       FreeMsg Hey there darling it's been 3 week's n...\n",
              "3530    Xmas & New Years Eve tickets are now on sale f...\n",
              "684     Hi I'm sue. I am 20 years old and work as a la...\n",
              "1875    Would you like to see my XXX pics they are so ...\n",
              "1893    CALL 09090900040 & LISTEN TO EXTREME DIRTY LIV...\n",
              "4298    thesmszone.com lets you send free anonymous an...\n",
              "4949    Hi this is Amy, we will be sending you a free ...\n",
              "2821    INTERFLORA - It's not too late to order Inter...\n",
              "2247    Hi ya babe x u 4goten bout me?' scammers getti...\n",
              "4514    Money i have won wining number 946 wot do i do...\n",
              "Name: message, dtype: object"
            ]
          },
          "metadata": {
            "tags": []
          },
          "execution_count": 30
        }
      ]
    },
    {
      "cell_type": "code",
      "metadata": {
        "colab": {
          "base_uri": "https://localhost:8080/"
        },
        "id": "uADx82azgv0U",
        "outputId": "722acc27-5ff6-4d7f-cc0a-61b0f89a715d"
      },
      "source": [
        "# calculate AUC\n",
        "y_pred_prob = nb.predict_proba(X_test_dtm)[:, 1]\n",
        "metrics.roc_auc_score(y_test, y_pred_prob)\n",
        "\n",
        "#AUC is useful as a single number summary of classifier performance\n",
        "#Higher value = better classifier"
      ],
      "execution_count": 32,
      "outputs": [
        {
          "output_type": "execute_result",
          "data": {
            "text/plain": [
              "0.9866431000536962"
            ]
          },
          "metadata": {
            "tags": []
          },
          "execution_count": 32
        }
      ]
    }
  ]
}